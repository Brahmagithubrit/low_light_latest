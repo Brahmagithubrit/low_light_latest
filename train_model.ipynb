{
 "cells": [
  {
   "cell_type": "code",
   "execution_count": 1,
   "id": "00709b1b",
   "metadata": {},
   "outputs": [
    {
     "name": "stdout",
     "output_type": "stream",
     "text": [
      "Done\n"
     ]
    }
   ],
   "source": [
    "import os\n",
    "import cv2\n",
    "import numpy as np\n",
    "import tensorflow as tf\n",
    "from tensorflow.keras.layers import Conv2D, Input\n",
    "from tensorflow.keras.models import Model\n",
    "from sklearn.model_selection import train_test_split\n",
    "\n",
    "print (\"Done\")"
   ]
  },
  {
   "cell_type": "code",
   "execution_count": 2,
   "id": "114f945f",
   "metadata": {},
   "outputs": [
    {
     "name": "stdout",
     "output_type": "stream",
     "text": [
      "Done\n"
     ]
    }
   ],
   "source": [
    "# Image loader\n",
    "def load_images(path):\n",
    "    data = []\n",
    "    for file in os.listdir(path):\n",
    "        if file.endswith(('jpg', 'jpeg', 'png')):\n",
    "            img = cv2.imread(os.path.join(path, file))\n",
    "            img = cv2.resize(img, (256, 256))\n",
    "            img = cv2.cvtColor(img, cv2.COLOR_BGR2RGB)\n",
    "            data.append(img / 255.0)\n",
    "    return np.array(data)\n",
    "\n",
    "print (\"Done\")"
   ]
  },
  {
   "cell_type": "code",
   "execution_count": null,
   "id": "9fe85c1a",
   "metadata": {},
   "outputs": [
    {
     "name": "stdout",
     "output_type": "stream",
     "text": [
      "\n",
      "🚀 Loading dataset...\n",
      "Loaded 485 low-light images and 485 high-light images.\n",
      "Done\n"
     ]
    }
   ],
   "source": [
    "print(\"\\n Loading dataset...\")\n",
    "low_dir = 'lol_dataset/our485/low'\n",
    "high_dir = 'lol_dataset/our485/high'\n",
    "low_imgs = load_images(low_dir)\n",
    "high_imgs = load_images(high_dir)\n",
    "\n",
    "print(f\"Loaded {len(low_imgs)} low-light images and {len(high_imgs)} high-light images.\")\n",
    "\n",
    "print (\"Done\")"
   ]
  },
  {
   "cell_type": "code",
   "execution_count": 4,
   "id": "8d7ebc75",
   "metadata": {},
   "outputs": [
    {
     "name": "stdout",
     "output_type": "stream",
     "text": [
      "Training data: 436 images | Validation data: 49 images\n",
      "Done\n"
     ]
    }
   ],
   "source": [
    "# Split\n",
    "train_low, val_low, train_high, val_high = train_test_split(low_imgs, high_imgs, test_size=0.1, random_state=42)\n",
    "print(f\"Training data: {len(train_low)} images | Validation data: {len(val_low)} images\")\n",
    "print (\"Done\")"
   ]
  },
  {
   "cell_type": "code",
   "execution_count": 5,
   "id": "b76364c9",
   "metadata": {},
   "outputs": [
    {
     "name": "stdout",
     "output_type": "stream",
     "text": [
      "Done\n"
     ]
    }
   ],
   "source": [
    "# Model\n",
    "input_layer = Input(shape=(256, 256, 3))\n",
    "x = Conv2D(64, (9, 9), activation='relu', padding='same')(input_layer)\n",
    "x = Conv2D(32, (1, 1), activation='relu', padding='same')(x)\n",
    "x = Conv2D(3, (5, 5), activation='sigmoid', padding='same')(x)\n",
    "model = Model(inputs=input_layer, outputs=x)\n",
    "model.compile(optimizer=tf.keras.optimizers.Adam(1e-4), loss='mse', metrics=['accuracy'])\n",
    "print (\"Done\")"
   ]
  },
  {
   "cell_type": "code",
   "execution_count": 6,
   "id": "46bb70db",
   "metadata": {},
   "outputs": [
    {
     "name": "stdout",
     "output_type": "stream",
     "text": [
      "\n",
      "📚 Training model...\n",
      "Epoch 1/20\n",
      "\u001b[1m55/55\u001b[0m \u001b[32m━━━━━━━━━━━━━━━━━━━━\u001b[0m\u001b[37m\u001b[0m \u001b[1m33s\u001b[0m 564ms/step - accuracy: 0.1990 - loss: 0.0501 - val_accuracy: 0.3323 - val_loss: 0.0455\n",
      "Epoch 2/20\n",
      "\u001b[1m55/55\u001b[0m \u001b[32m━━━━━━━━━━━━━━━━━━━━\u001b[0m\u001b[37m\u001b[0m \u001b[1m32s\u001b[0m 585ms/step - accuracy: 0.3915 - loss: 0.0450 - val_accuracy: 0.5276 - val_loss: 0.0408\n",
      "Epoch 3/20\n",
      "\u001b[1m55/55\u001b[0m \u001b[32m━━━━━━━━━━━━━━━━━━━━\u001b[0m\u001b[37m\u001b[0m \u001b[1m31s\u001b[0m 566ms/step - accuracy: 0.5528 - loss: 0.0366 - val_accuracy: 0.5454 - val_loss: 0.0362\n",
      "Epoch 4/20\n",
      "\u001b[1m55/55\u001b[0m \u001b[32m━━━━━━━━━━━━━━━━━━━━\u001b[0m\u001b[37m\u001b[0m \u001b[1m32s\u001b[0m 576ms/step - accuracy: 0.5657 - loss: 0.0337 - val_accuracy: 0.5672 - val_loss: 0.0338\n",
      "Epoch 5/20\n",
      "\u001b[1m55/55\u001b[0m \u001b[32m━━━━━━━━━━━━━━━━━━━━\u001b[0m\u001b[37m\u001b[0m \u001b[1m32s\u001b[0m 580ms/step - accuracy: 0.6099 - loss: 0.0294 - val_accuracy: 0.5888 - val_loss: 0.0328\n",
      "Epoch 6/20\n",
      "\u001b[1m55/55\u001b[0m \u001b[32m━━━━━━━━━━━━━━━━━━━━\u001b[0m\u001b[37m\u001b[0m \u001b[1m36s\u001b[0m 652ms/step - accuracy: 0.6122 - loss: 0.0277 - val_accuracy: 0.6565 - val_loss: 0.0321\n",
      "Epoch 7/20\n",
      "\u001b[1m55/55\u001b[0m \u001b[32m━━━━━━━━━━━━━━━━━━━━\u001b[0m\u001b[37m\u001b[0m \u001b[1m35s\u001b[0m 627ms/step - accuracy: 0.6691 - loss: 0.0281 - val_accuracy: 0.6363 - val_loss: 0.0316\n",
      "Epoch 8/20\n",
      "\u001b[1m55/55\u001b[0m \u001b[32m━━━━━━━━━━━━━━━━━━━━\u001b[0m\u001b[37m\u001b[0m \u001b[1m35s\u001b[0m 642ms/step - accuracy: 0.6826 - loss: 0.0276 - val_accuracy: 0.6776 - val_loss: 0.0313\n",
      "Epoch 9/20\n",
      "\u001b[1m55/55\u001b[0m \u001b[32m━━━━━━━━━━━━━━━━━━━━\u001b[0m\u001b[37m\u001b[0m \u001b[1m34s\u001b[0m 618ms/step - accuracy: 0.7045 - loss: 0.0274 - val_accuracy: 0.6741 - val_loss: 0.0309\n",
      "Epoch 10/20\n",
      "\u001b[1m55/55\u001b[0m \u001b[32m━━━━━━━━━━━━━━━━━━━━\u001b[0m\u001b[37m\u001b[0m \u001b[1m35s\u001b[0m 634ms/step - accuracy: 0.6954 - loss: 0.0269 - val_accuracy: 0.6874 - val_loss: 0.0306\n",
      "Epoch 11/20\n",
      "\u001b[1m55/55\u001b[0m \u001b[32m━━━━━━━━━━━━━━━━━━━━\u001b[0m\u001b[37m\u001b[0m \u001b[1m31s\u001b[0m 558ms/step - accuracy: 0.7064 - loss: 0.0251 - val_accuracy: 0.6916 - val_loss: 0.0307\n",
      "Epoch 12/20\n",
      "\u001b[1m55/55\u001b[0m \u001b[32m━━━━━━━━━━━━━━━━━━━━\u001b[0m\u001b[37m\u001b[0m \u001b[1m36s\u001b[0m 649ms/step - accuracy: 0.7143 - loss: 0.0284 - val_accuracy: 0.6915 - val_loss: 0.0303\n",
      "Epoch 13/20\n",
      "\u001b[1m55/55\u001b[0m \u001b[32m━━━━━━━━━━━━━━━━━━━━\u001b[0m\u001b[37m\u001b[0m \u001b[1m38s\u001b[0m 679ms/step - accuracy: 0.7071 - loss: 0.0250 - val_accuracy: 0.6895 - val_loss: 0.0300\n",
      "Epoch 14/20\n",
      "\u001b[1m55/55\u001b[0m \u001b[32m━━━━━━━━━━━━━━━━━━━━\u001b[0m\u001b[37m\u001b[0m \u001b[1m37s\u001b[0m 668ms/step - accuracy: 0.7021 - loss: 0.0263 - val_accuracy: 0.6991 - val_loss: 0.0303\n",
      "Epoch 15/20\n",
      "\u001b[1m55/55\u001b[0m \u001b[32m━━━━━━━━━━━━━━━━━━━━\u001b[0m\u001b[37m\u001b[0m \u001b[1m31s\u001b[0m 569ms/step - accuracy: 0.7178 - loss: 0.0272 - val_accuracy: 0.7053 - val_loss: 0.0296\n",
      "Epoch 16/20\n",
      "\u001b[1m55/55\u001b[0m \u001b[32m━━━━━━━━━━━━━━━━━━━━\u001b[0m\u001b[37m\u001b[0m \u001b[1m32s\u001b[0m 581ms/step - accuracy: 0.7097 - loss: 0.0250 - val_accuracy: 0.7090 - val_loss: 0.0294\n",
      "Epoch 17/20\n",
      "\u001b[1m55/55\u001b[0m \u001b[32m━━━━━━━━━━━━━━━━━━━━\u001b[0m\u001b[37m\u001b[0m \u001b[1m38s\u001b[0m 692ms/step - accuracy: 0.7105 - loss: 0.0257 - val_accuracy: 0.7101 - val_loss: 0.0291\n",
      "Epoch 18/20\n",
      "\u001b[1m55/55\u001b[0m \u001b[32m━━━━━━━━━━━━━━━━━━━━\u001b[0m\u001b[37m\u001b[0m \u001b[1m35s\u001b[0m 629ms/step - accuracy: 0.7171 - loss: 0.0272 - val_accuracy: 0.7060 - val_loss: 0.0299\n",
      "Epoch 19/20\n",
      "\u001b[1m55/55\u001b[0m \u001b[32m━━━━━━━━━━━━━━━━━━━━\u001b[0m\u001b[37m\u001b[0m \u001b[1m34s\u001b[0m 611ms/step - accuracy: 0.7205 - loss: 0.0255 - val_accuracy: 0.7038 - val_loss: 0.0292\n",
      "Epoch 20/20\n",
      "\u001b[1m55/55\u001b[0m \u001b[32m━━━━━━━━━━━━━━━━━━━━\u001b[0m\u001b[37m\u001b[0m \u001b[1m37s\u001b[0m 670ms/step - accuracy: 0.7187 - loss: 0.0271 - val_accuracy: 0.7124 - val_loss: 0.0292\n",
      "Done\n"
     ]
    }
   ],
   "source": [
    "# Train\n",
    "print(\"\\n📚 Training model...\")\n",
    "history = model.fit(train_low, train_high, validation_data=(val_low, val_high), epochs=20, batch_size=8)\n",
    "print (\"Done\")"
   ]
  },
  {
   "cell_type": "code",
   "execution_count": 7,
   "id": "0cea1afd",
   "metadata": {},
   "outputs": [
    {
     "name": "stderr",
     "output_type": "stream",
     "text": [
      "WARNING:absl:You are saving your model as an HDF5 file via `model.save()` or `keras.saving.save_model(model)`. This file format is considered legacy. We recommend using instead the native Keras format, e.g. `model.save('my_model.keras')` or `keras.saving.save_model(model, 'my_model.keras')`. \n"
     ]
    },
    {
     "name": "stdout",
     "output_type": "stream",
     "text": [
      "Done\n"
     ]
    }
   ],
   "source": [
    "# Save\n",
    "model.save(\"complex_model_latest.h5\")\n",
    "print (\"Done\")"
   ]
  },
  {
   "cell_type": "code",
   "execution_count": 8,
   "id": "6a89da24",
   "metadata": {},
   "outputs": [
    {
     "name": "stdout",
     "output_type": "stream",
     "text": [
      "\u001b[1m2/2\u001b[0m \u001b[32m━━━━━━━━━━━━━━━━━━━━\u001b[0m\u001b[37m\u001b[0m \u001b[1m2s\u001b[0m 671ms/step - accuracy: 0.7137 - loss: 0.0282\n",
      "\n",
      "📈 Training Complete\n",
      "-----------------------------------------\n",
      "✅ Final Validation Accuracy: 71.24%\n",
      "🔁 Final Validation Loss: 0.0292\n",
      "Model saved as 'complex_model_latest.h5'\n",
      "Done\n"
     ]
    }
   ],
   "source": [
    "# Report\n",
    "val_loss, val_accuracy = model.evaluate(val_low, val_high)\n",
    "print(\"\\n📈 Training Complete\")\n",
    "print(\"-----------------------------------------\")\n",
    "print(f\"✅ Final Validation Accuracy: {val_accuracy * 100:.2f}%\")\n",
    "print(f\"🔁 Final Validation Loss: {val_loss:.4f}\")\n",
    "print(\"Model saved as 'complex_model_latest.h5'\")\n",
    "print (\"Done\")"
   ]
  }
 ],
 "metadata": {
  "kernelspec": {
   "display_name": "Python 3",
   "language": "python",
   "name": "python3"
  },
  "language_info": {
   "codemirror_mode": {
    "name": "ipython",
    "version": 3
   },
   "file_extension": ".py",
   "mimetype": "text/x-python",
   "name": "python",
   "nbconvert_exporter": "python",
   "pygments_lexer": "ipython3",
   "version": "3.11.9"
  }
 },
 "nbformat": 4,
 "nbformat_minor": 5
}
